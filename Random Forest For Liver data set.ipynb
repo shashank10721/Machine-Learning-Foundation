{
 "cells": [
  {
   "cell_type": "code",
   "execution_count": 3,
   "metadata": {},
   "outputs": [
    {
     "name": "stdout",
     "output_type": "stream",
     "text": [
      "(345, 7)\n",
      "Accuracy: 0.6057692307692307\n",
      "[0.5865384615384616, 0.6923076923076923, 0.6346153846153846, 0.6538461538461539, 0.6346153846153846, 0.6538461538461539, 0.6634615384615384, 0.6730769230769231, 0.6826923076923077, 0.6730769230769231, 0.7019230769230769, 0.6730769230769231, 0.7115384615384616, 0.6538461538461539, 0.6923076923076923, 0.7211538461538461, 0.7307692307692307, 0.6538461538461539, 0.6923076923076923, 0.6826923076923077, 0.6634615384615384, 0.6730769230769231, 0.6442307692307693, 0.7307692307692307, 0.7211538461538461, 0.7019230769230769, 0.7115384615384616, 0.6538461538461539, 0.6634615384615384, 0.6730769230769231, 0.6923076923076923, 0.6730769230769231, 0.6923076923076923, 0.7211538461538461, 0.6730769230769231, 0.7019230769230769, 0.7019230769230769, 0.7211538461538461, 0.7403846153846154, 0.7019230769230769, 0.6826923076923077, 0.7307692307692307, 0.6923076923076923, 0.7115384615384616, 0.6634615384615384, 0.6826923076923077, 0.75, 0.75, 0.7211538461538461, 0.75, 0.7307692307692307, 0.7019230769230769, 0.6826923076923077, 0.6923076923076923, 0.7115384615384616, 0.7115384615384616, 0.6826923076923077, 0.6730769230769231, 0.7019230769230769, 0.7019230769230769, 0.6634615384615384, 0.7019230769230769, 0.7307692307692307, 0.7019230769230769, 0.6730769230769231, 0.7211538461538461, 0.6442307692307693, 0.7019230769230769, 0.6923076923076923, 0.6923076923076923, 0.7115384615384616, 0.7403846153846154, 0.7115384615384616, 0.7211538461538461, 0.6730769230769231, 0.6346153846153846, 0.7211538461538461, 0.7019230769230769, 0.6826923076923077, 0.7019230769230769, 0.7019230769230769, 0.6538461538461539, 0.6923076923076923, 0.7019230769230769, 0.7019230769230769, 0.7019230769230769, 0.6923076923076923, 0.6826923076923077, 0.6730769230769231, 0.6923076923076923, 0.6730769230769231, 0.6730769230769231, 0.7115384615384616, 0.6923076923076923, 0.7211538461538461, 0.6923076923076923, 0.6923076923076923, 0.6923076923076923, 0.6634615384615384, 0.75] , \n",
      "Maximum Accuracy\n",
      "0.75\n"
     ]
    }
   ],
   "source": [
    "import numpy as np\n",
    "import pandas as pd\n",
    "from sklearn import tree\n",
    "\n",
    "import warnings\n",
    "warnings.filterwarnings(\"ignore\", message=\"numpy.dtype size changed\")\n",
    "\n",
    "col_names = ['mcv', 'alkphos', 'sgpt', 'sgot', 'gammagt', 'drinks', 'selector']\n",
    "df=pd.read_csv(\"bupa.csv\", header=None,names=col_names)\n",
    "print(df.shape)\n",
    "feature = ['mcv', 'alkphos', 'sgpt', 'sgot', 'gammagt', 'drinks']\n",
    "x=df[feature]   #feature Values\n",
    "# y is target values\n",
    "y=df.selector\n",
    "from sklearn.model_selection import train_test_split\n",
    "# Split dataset into training set and test set\n",
    "x_train, x_test, y_train, y_test = train_test_split(x, y, test_size=0.3, random_state=1) # 70% training and 30% test\n",
    "\n",
    "\n",
    "from sklearn.ensemble import RandomForestClassifier\n",
    "# Create RandomForest classifer object\n",
    "rfc = RandomForestClassifier(n_estimators=3,criterion='entropy')\n",
    "# Train Decision Tree Classifer\n",
    "rfc.fit(x_train,y_train)\n",
    "#Predict the response for test dataset\n",
    "y_pred = rfc.predict(x_test)\n",
    "from sklearn.metrics import accuracy_score\n",
    "print(\"Accuracy:\",accuracy_score(y_test, y_pred))\n",
    "\n",
    "#find out best accuracy in deffirent deffirent c values\n",
    "ma_accuracy=[]\n",
    "for i in range(1,101):\n",
    "    rfc=RandomForestClassifier(n_estimators=i,criterion='entropy')\n",
    "    rfc.fit(x_train,y_train)\n",
    "    y_pred=rfc.predict(x_test)\n",
    "    a=accuracy_score(y_test,y_pred)\n",
    "    ma_accuracy.append(a)\n",
    "    \n",
    "print(ma_accuracy,end=\" , \") \n",
    "print(\"\\nMaximum Accuracy\")\n",
    "print(max(ma_accuracy))"
   ]
  },
  {
   "cell_type": "code",
   "execution_count": 5,
   "metadata": {},
   "outputs": [
    {
     "name": "stdout",
     "output_type": "stream",
     "text": [
      "[[29 20]\n",
      " [ 6 49]]\n"
     ]
    },
    {
     "name": "stderr",
     "output_type": "stream",
     "text": [
      "c:\\users\\user\\appdata\\local\\programs\\python\\python37\\lib\\importlib\\_bootstrap.py:219: RuntimeWarning: numpy.ufunc size changed, may indicate binary incompatibility. Expected 192 from C header, got 216 from PyObject\n",
      "  return f(*args, **kwds)\n"
     ]
    },
    {
     "data": {
      "text/plain": [
       "Text(0.5, 257.44, 'Predicted label')"
      ]
     },
     "execution_count": 5,
     "metadata": {},
     "output_type": "execute_result"
    },
    {
     "data": {
      "image/png": "[encoded data removed]",
      "text/plain": [
       "<Figure size 432x288 with 2 Axes>"
      ]
     },
     "metadata": {
      "needs_background": "light"
     },
     "output_type": "display_data"
    }
   ],
   "source": [
    "from sklearn import metrics\n",
    "cnf_matrix=metrics.confusion_matrix(y_test,y_pred)\n",
    "print(cnf_matrix)\n",
    "#this model is binary classification so 2*2 metrix\n",
    "\n",
    "import numpy as np\n",
    "import matplotlib.pyplot as plt\n",
    "import seaborn as sns\n",
    "%matplotlib inline\n",
    "\n",
    "class_names=[0,1] # name  of classes\n",
    "fig, ax = plt.subplots()\n",
    "tick_marks = np.arange(len(class_names))\n",
    "plt.xticks(tick_marks, class_names)\n",
    "plt.yticks(tick_marks, class_names)\n",
    "# create heatmap\n",
    "sns.heatmap(pd.DataFrame(cnf_matrix), annot=True, cmap=\"YlGnBu\" ,fmt='g')\n",
    "ax.xaxis.set_label_position(\"top\")\n",
    "plt.tight_layout()\n",
    "plt.title('Confusion matrix', y=1.1)\n",
    "plt.ylabel('Actual label')\n",
    "plt.xlabel('Predicted label')"
   ]
  }
 ],
 "metadata": {
  "kernelspec": {
   "display_name": "Python 3",
   "language": "python",
   "name": "python3"
  },
  "language_info": {
   "codemirror_mode": {
    "name": "ipython",
    "version": 3
   },
   "file_extension": ".py",
   "mimetype": "text/x-python",
   "name": "python",
   "nbconvert_exporter": "python",
   "pygments_lexer": "ipython3",
   "version": "3.7.2"
  }
 },
 "nbformat": 4,
 "nbformat_minor": 2
}
