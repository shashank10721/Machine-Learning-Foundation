{
 "cells": [
  {
   "cell_type": "code",
   "execution_count": 6,
   "metadata": {},
   "outputs": [
    {
     "name": "stdout",
     "output_type": "stream",
     "text": [
      "     A     B     C    D\n",
      "0  1.0   2.0   3.0  4.0\n",
      "1  5.0   6.0   8.0  NaN\n",
      "2  0.0  11.0  12.0  NaN\n",
      "     A     B     C    D\n",
      "0  1.0   2.0   3.0  4.0\n",
      "1  5.0   6.0   8.0  NaN\n",
      "2  0.0  11.0  12.0  NaN\n",
      "A    0\n",
      "B    0\n",
      "C    0\n",
      "D    2\n",
      "dtype: int64\n",
      "[[ 1.  2.  3.  4.]\n",
      " [ 5.  6.  8. nan]\n",
      " [ 0. 11. 12. nan]]\n"
     ]
    }
   ],
   "source": [
    "import pandas as pd\n",
    "from io import StringIO\n",
    "csv_data='''A,B,C,D\n",
    "            1.0,2.0,3.0,4.0\n",
    "            5.0,6.0,8.0\n",
    "            0.0,11,12'''\n",
    "df=pd.read_csv(StringIO(csv_data))\n",
    "print(df)\n",
    "print(df.tail())\n",
    "print(df.isnull().sum())\n",
    "print(df.values)"
   ]
  },
  {
   "cell_type": "code",
   "execution_count": 12,
   "metadata": {},
   "outputs": [
    {
     "name": "stdout",
     "output_type": "stream",
     "text": [
      "     A    B    C    D\n",
      "0  1.0  2.0  3.0  4.0\n",
      "     A     B     C\n",
      "0  1.0   2.0   3.0\n",
      "1  5.0   6.0   8.0\n",
      "2  0.0  11.0  12.0\n"
     ]
    }
   ],
   "source": [
    "d1=df.dropna() #drop the null values (delete rows)\n",
    "print(d1)\n",
    "d2=df.dropna(axis=1) # delete coloum\n",
    "print(d2)"
   ]
  },
  {
   "cell_type": "code",
   "execution_count": 21,
   "metadata": {},
   "outputs": [
    {
     "name": "stdout",
     "output_type": "stream",
     "text": [
      "     A    B    C    D\n",
      "0  1.0  2.0  3.0  4.0\n",
      "A    0\n",
      "B    0\n",
      "C    0\n",
      "D    2\n",
      "dtype: int64\n",
      "     A     B     C    D\n",
      "0  1.0   2.0   3.0  4.0\n",
      "1  5.0   6.0   8.0  NaN\n",
      "2  0.0  11.0  12.0  NaN\n",
      "     A     B     C    D\n",
      "0  1.0   2.0   3.0  4.0\n",
      "1  5.0   6.0   8.0  NaN\n",
      "2  0.0  11.0  12.0  NaN\n",
      "     A    B    C    D\n",
      "0  1.0  2.0  3.0  4.0\n"
     ]
    }
   ],
   "source": [
    "print(df.dropna(thresh=4))\n",
    "print(df.isnull().sum())\n",
    "print(df.dropna(how='all'))\n",
    "print(df.dropna(thresh=2))\n",
    "print(df.dropna(subset=['D']))\n"
   ]
  },
  {
   "cell_type": "code",
   "execution_count": 26,
   "metadata": {},
   "outputs": [
    {
     "name": "stdout",
     "output_type": "stream",
     "text": [
      "[[ 1.          2.          3.          4.        ]\n",
      " [ 5.          6.          8.          6.33333333]\n",
      " [ 0.         11.         12.          7.66666667]]\n"
     ]
    },
    {
     "name": "stderr",
     "output_type": "stream",
     "text": [
      "c:\\users\\user\\appdata\\local\\programs\\python\\python37\\lib\\site-packages\\sklearn\\utils\\deprecation.py:58: DeprecationWarning: Class Imputer is deprecated; Imputer was deprecated in version 0.20 and will be removed in 0.22. Import impute.SimpleImputer from sklearn instead.\n",
      "  warnings.warn(msg, category=DeprecationWarning)\n"
     ]
    }
   ],
   "source": [
    "from sklearn.preprocessing import Imputer\n",
    "imr=Imputer(missing_values='NaN',strategy='mean',axis=1)\n",
    "imr=imr.fit(df)\n",
    "imputed_data=imr.transform(df.values)\n",
    "print(imputed_data)"
   ]
  },
  {
   "cell_type": "code",
   "execution_count": null,
   "metadata": {},
   "outputs": [],
   "source": []
  }
 ],
 "metadata": {
  "kernelspec": {
   "display_name": "Python 3",
   "language": "python",
   "name": "python3"
  },
  "language_info": {
   "codemirror_mode": {
    "name": "ipython",
    "version": 3
   },
   "file_extension": ".py",
   "mimetype": "text/x-python",
   "name": "python",
   "nbconvert_exporter": "python",
   "pygments_lexer": "ipython3",
   "version": "3.7.2"
  }
 },
 "nbformat": 4,
 "nbformat_minor": 2
}
