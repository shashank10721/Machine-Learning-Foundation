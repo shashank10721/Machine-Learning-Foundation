{
 "cells": [
  {
   "cell_type": "code",
   "execution_count": 1,
   "metadata": {},
   "outputs": [
    {
     "name": "stdout",
     "output_type": "stream",
     "text": [
      "[0 1 2]\n",
      "(150, 4)\n",
      "50\n",
      "50\n",
      "50\n",
      "(150, 4)\n",
      "(120, 4)\n",
      "(30, 4)\n",
      "Misclassified Samples 0\n",
      "Accuracy 1.0\n"
     ]
    },
    {
     "name": "stderr",
     "output_type": "stream",
     "text": [
      "c:\\users\\user\\appdata\\local\\programs\\python\\python37\\lib\\site-packages\\sklearn\\linear_model\\stochastic_gradient.py:183: FutureWarning: max_iter and tol parameters have been added in Perceptron in 0.19. If max_iter is set but tol is left unset, the default value for tol in 0.19 and 0.20 will be None (which is equivalent to -infinity, so it has no effect) but will change in 0.21 to 1e-3. Specify tol to silence this warning.\n",
      "  FutureWarning)\n"
     ]
    }
   ],
   "source": [
    "#perceptron\n",
    "from sklearn import datasets\n",
    "Iris=datasets.load_iris()\n",
    "x=Iris.data\n",
    "y=Iris.target\n",
    "#print(x)\n",
    "#print(y)\n",
    "\n",
    "import numpy as np\n",
    "#print(np.unique(y))\n",
    "#print(x.shape)\n",
    "\n",
    "#no. of record per class\n",
    "#print((y==0).sum())\n",
    "#print((y==1).sum())\n",
    "#print((y==2).sum())\n",
    "\n",
    "from sklearn.model_selection import train_test_split\n",
    "#from sklearn.cross_validation import train_test_split\n",
    "x_train,x_test,y_train,y_test = train_test_split(x,y,test_size=0.2,random_state=0)\n",
    "#print(np.shape(x))\n",
    "#print(np.shape(x_train))\n",
    "#print(np.shape(x_test))\n",
    "\n",
    "from sklearn.preprocessing import StandardScaler\n",
    "sc=StandardScaler()\n",
    "sc.fit(x_train)   #to recognize mean and std of the data set\n",
    "x_train_std=sc.transform(x_train)\n",
    "x_test_std=sc.transform(x_test)\n",
    "\n",
    "from sklearn.linear_model import Perceptron\n",
    "ppn=Perceptron(eta0=0.1,random_state=0,max_iter=100)\n",
    "ppn.fit(x_train_std,y_train)\n",
    "\n",
    "y_pred=ppn.predict(x_test_std)\n",
    "print(\"Misclassified Samples\",(y_test != y_pred).sum())\n",
    "\n",
    "from sklearn.metrics import accuracy_score\n",
    "print('Accuracy',accuracy_score(y_test,y_pred))"
   ]
  },
  {
   "cell_type": "code",
   "execution_count": 4,
   "metadata": {},
   "outputs": [
    {
     "name": "stdout",
     "output_type": "stream",
     "text": [
      "[0 1 2]\n",
      "(150, 4)\n",
      "50\n",
      "50\n",
      "50\n",
      "(150, 4)\n",
      "(120, 4)\n",
      "(30, 4)\n",
      "Misclassified Samples 4\n",
      "Accuracy 0.8666666666666667\n"
     ]
    }
   ],
   "source": [
    "#logistic Regression\n",
    "from sklearn import datasets\n",
    "Iris=datasets.load_iris()\n",
    "x=Iris.data\n",
    "y=Iris.target\n",
    "#print(x)\n",
    "#print(y)\n",
    "\n",
    "import numpy as np\n",
    "print(np.unique(y))\n",
    "print(x.shape)\n",
    "\n",
    "#no. of record per class\n",
    "print((y==0).sum())\n",
    "print((y==1).sum())\n",
    "print((y==2).sum())\n",
    "\n",
    "from sklearn.model_selection import train_test_split\n",
    "x_train,x_test,y_train,y_test = train_test_split(x,y,test_size=0.2,random_state=None)\n",
    "print(np.shape(x))\n",
    "print(np.shape(x_train))\n",
    "print(np.shape(x_test))\n",
    "\n",
    "from sklearn.preprocessing import StandardScaler\n",
    "sc=StandardScaler()\n",
    "sc.fit(x_train)   #to recognize mean and std of the data set\n",
    "x_train_std=sc.transform(x_train)\n",
    "x_test_std=sc.transform(x_test)\n",
    "\n",
    "#logictic Regression with regularization\n",
    "from sklearn.linear_model import LogisticRegression\n",
    "lr=LogisticRegression(C=1,random_state=0,max_iter=10,penalty='l1') #l1=lambda l2=c\n",
    "lr.fit(x_train_std,y_train)\n",
    "\n",
    "y_pred=lr.predict(x_test_std)\n",
    "print(\"Misclassified Samples\",(y_test != y_pred).sum())\n",
    "\n",
    "from sklearn.metrics import accuracy_score\n",
    "print('Accuracy',accuracy_score(y_test,y_pred))"
   ]
  },
  {
   "cell_type": "code",
   "execution_count": 6,
   "metadata": {},
   "outputs": [
    {
     "name": "stdout",
     "output_type": "stream",
     "text": [
      "Misclassified Samples 1\n",
      "Accuracy 0.9666666666666667\n"
     ]
    }
   ],
   "source": [
    "#SVM\n",
    "from sklearn import datasets\n",
    "Iris=datasets.load_iris()\n",
    "x=Iris.data\n",
    "y=Iris.target\n",
    "\n",
    "import numpy as np\n",
    "\n",
    "from sklearn.model_selection import train_test_split\n",
    "x_train,x_test,y_train,y_test = train_test_split(x,y,test_size=0.2,random_state=None)\n",
    "\n",
    "from sklearn.preprocessing import StandardScaler\n",
    "sc=StandardScaler()\n",
    "sc.fit(x_train)   #to recognize mean and std of the data set\n",
    "x_train_std=sc.transform(x_train)\n",
    "x_test_std=sc.transform(x_test)\n",
    "\n",
    "#Svm\n",
    "from sklearn.svm import SVC\n",
    "s=SVC(kernel='rbf',C=1.0)\n",
    "s.fit(x_train_std,y_train)\n",
    "y_pred=s.predict(x_test_std)\n",
    "print(\"Misclassified Samples\",(y_test != y_pred).sum())\n",
    "\n",
    "from sklearn.metrics import accuracy_score\n",
    "print('Accuracy',accuracy_score(y_test,y_pred))"
   ]
  },
  {
   "cell_type": "code",
   "execution_count": 13,
   "metadata": {},
   "outputs": [
    {
     "name": "stdout",
     "output_type": "stream",
     "text": [
      "Misclassified Samples 1\n",
      "Accuracy 0.9666666666666667\n"
     ]
    }
   ],
   "source": [
    "#KNN\n",
    "from sklearn import datasets\n",
    "Iris=datasets.load_iris()\n",
    "x=Iris.data\n",
    "y=Iris.target\n",
    "\n",
    "import numpy as np\n",
    "\n",
    "from sklearn.model_selection import train_test_split\n",
    "x_train,x_test,y_train,y_test = train_test_split(x,y,test_size=0.2,random_state=None)\n",
    "\n",
    "from sklearn.preprocessing import StandardScaler\n",
    "sc=StandardScaler()\n",
    "sc.fit(x_train)   #to recognize mean and std of the data set\n",
    "x_train_std=sc.transform(x_train)\n",
    "x_test_std=sc.transform(x_test)\n",
    "\n",
    "#KNN\n",
    "from sklearn.neighbors import KNeighborsClassifier\n",
    "c=KNeighborsClassifier(n_neighbors=5,metric='minkowski',p=2)\n",
    "c.fit(x_train_std,y_train)\n",
    "y_pred=c.predict(x_test_std)\n",
    "print(\"Misclassified Samples\",(y_test != y_pred).sum())\n",
    "\n",
    "from sklearn.metrics import accuracy_score\n",
    "print('Accuracy',accuracy_score(y_test,y_pred))"
   ]
  },
  {
   "cell_type": "code",
   "execution_count": 56,
   "metadata": {},
   "outputs": [
    {
     "name": "stdout",
     "output_type": "stream",
     "text": [
      "Misclassified Samples 0\n",
      "Accuracy 1.0\n"
     ]
    }
   ],
   "source": [
    "#decision Tree\n",
    "from sklearn import datasets\n",
    "Iris=datasets.load_iris()\n",
    "x=Iris.data\n",
    "y=Iris.target\n",
    "\n",
    "import numpy as np\n",
    "\n",
    "from sklearn.model_selection import train_test_split\n",
    "x_train,x_test,y_train,y_test = train_test_split(x,y,test_size=0.2,random_state=None)\n",
    "\n",
    "#in decision tree it is not required to do standardisation\n",
    "from sklearn.preprocessing import StandardScaler\n",
    "sc=StandardScaler()\n",
    "sc.fit(x_train)   #to recognize mean and std of the data set\n",
    "x_train_std=sc.transform(x_train)\n",
    "x_test_std=sc.transform(x_test)\n",
    "\n",
    "#Desision Tree\n",
    "from sklearn.tree import DecisionTreeClassifier\n",
    "t=DecisionTreeClassifier(criterion='entropy',max_depth=5)\n",
    "t.fit(x_train_std,y_train)\n",
    "\n",
    "y_pred=t.predict(x_test_std)\n",
    "print(\"Misclassified Samples\",(y_test != y_pred).sum())\n",
    "\n",
    "from sklearn.metrics import accuracy_score\n",
    "print('Accuracy',accuracy_score(y_test,y_pred))"
   ]
  },
  {
   "cell_type": "code",
   "execution_count": 18,
   "metadata": {},
   "outputs": [
    {
     "name": "stdout",
     "output_type": "stream",
     "text": [
      "Misclassified Samples 1\n",
      "Accuracy 0.9666666666666667\n"
     ]
    }
   ],
   "source": [
    "#Random Forest\n",
    "from sklearn import datasets\n",
    "Iris=datasets.load_iris()\n",
    "x=Iris.data\n",
    "y=Iris.target\n",
    "\n",
    "import numpy as np\n",
    "\n",
    "from sklearn.model_selection import train_test_split\n",
    "x_train,x_test,y_train,y_test = train_test_split(x,y,test_size=0.2,random_state=None)\n",
    "\n",
    "from sklearn.preprocessing import StandardScaler\n",
    "sc=StandardScaler()\n",
    "sc.fit(x_train)   #to recognize mean and std of the data set\n",
    "x_train_std=sc.transform(x_train)\n",
    "x_test_std=sc.transform(x_test)\n",
    "\n",
    "#Random Forest\n",
    "from sklearn.ensemble import RandomForestClassifier\n",
    "r=RandomForestClassifier(n_estimators=10,criterion='entropy')\n",
    "t.fit(x_train_std,y_train)\n",
    "y_pred=t.predict(x_test_std)\n",
    "print(\"Misclassified Samples\",(y_test != y_pred).sum())\n",
    "\n",
    "from sklearn.metrics import accuracy_score\n",
    "print('Accuracy',accuracy_score(y_test,y_pred))"
   ]
  }
 ],
 "metadata": {
  "kernelspec": {
   "display_name": "Python 3",
   "language": "python",
   "name": "python3"
  },
  "language_info": {
   "codemirror_mode": {
    "name": "ipython",
    "version": 3
   },
   "file_extension": ".py",
   "mimetype": "text/x-python",
   "name": "python",
   "nbconvert_exporter": "python",
   "pygments_lexer": "ipython3",
   "version": "3.7.2"
  }
 },
 "nbformat": 4,
 "nbformat_minor": 2
}
