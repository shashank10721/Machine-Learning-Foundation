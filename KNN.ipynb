{
 "cells": [
  {
   "cell_type": "code",
   "execution_count": 5,
   "metadata": {},
   "outputs": [
    {
     "name": "stdout",
     "output_type": "stream",
     "text": [
      "Misclassified Samples 2\n",
      "Accuracy 0.9733333333333334\n"
     ]
    }
   ],
   "source": [
    "#KNN\n",
    "from sklearn import datasets\n",
    "Iris=datasets.load_iris()\n",
    "x=Iris.data[:,[1,2,3]] # only two feature\n",
    "y=Iris.target\n",
    "\n",
    "import numpy as np\n",
    "\n",
    "from sklearn.model_selection import train_test_split\n",
    "x_train,x_test,y_train,y_test = train_test_split(x,y,test_size=0.5,random_state=None)\n",
    "\n",
    "#from sklearn.preprocessing import StandardScaler\n",
    "#sc=StandardScaler()\n",
    "#sc.fit(x_train)   #to recognize mean and std of the data set\n",
    "#x_train_std=sc.transform(x_train)\n",
    "#x_test_std=sc.transform(x_test)\n",
    "\n",
    "#KNN\n",
    "from sklearn.neighbors import KNeighborsClassifier\n",
    "c=KNeighborsClassifier(n_neighbors=15,metric='minkowski',p=2)\n",
    "c.fit(x_train,y_train)\n",
    "y_pred=c.predict(x_test)\n",
    "print(\"Misclassified Samples\",(y_test != y_pred).sum())#compute\n",
    "\n",
    "from sklearn.metrics import accuracy_score\n",
    "print('Accuracy',accuracy_score(y_test,y_pred))"
   ]
  },
  {
   "cell_type": "code",
   "execution_count": null,
   "metadata": {},
   "outputs": [],
   "source": []
  }
 ],
 "metadata": {
  "kernelspec": {
   "display_name": "Python 3",
   "language": "python",
   "name": "python3"
  },
  "language_info": {
   "codemirror_mode": {
    "name": "ipython",
    "version": 3
   },
   "file_extension": ".py",
   "mimetype": "text/x-python",
   "name": "python",
   "nbconvert_exporter": "python",
   "pygments_lexer": "ipython3",
   "version": "3.7.2"
  }
 },
 "nbformat": 4,
 "nbformat_minor": 2
}
