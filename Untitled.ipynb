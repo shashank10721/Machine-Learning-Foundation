{
 "cells": [
  {
   "cell_type": "code",
   "execution_count": 60,
   "metadata": {},
   "outputs": [
    {
     "name": "stdout",
     "output_type": "stream",
     "text": [
      "(142, 20)\n",
      "Original data x: (142, 19)\n",
      "After spliting x_traing shape: (99, 19)\n",
      "After spliting x_test size: (43, 19)\n",
      "Missclassified : 8\n",
      "Accuracy: 0.813953488372093\n",
      "Best C Values for best Accuracy :  1\n",
      "\n",
      " Accuracy :  0.9302325581395349\n"
     ]
    }
   ],
   "source": [
    "import pandas as pd\n",
    "import numpy as np\n",
    "df=pd.read_csv(\"hepatitis.csv\")\n",
    "print(df.shape)\n",
    "\n",
    "y=df['class']#target Values\n",
    "x=df.iloc[:142,1:] #Feature\n",
    "\n",
    "from sklearn.model_selection import train_test_split\n",
    "x_train,x_test,y_train,y_test=train_test_split(x,y,test_size=0.3,random_state=0)\n",
    "print(\"Original data x:\",x.shape)\n",
    "print(\"After spliting x_traing shape:\",np.shape(x_train))\n",
    "print(\"After spliting x_test size:\",np.shape(x_test))\n",
    "\n",
    "\n",
    "from sklearn.tree import DecisionTreeClassifier\n",
    "dtc=DecisionTreeClassifier(max_depth=5,random_state=0)\n",
    "dtc.fit(x_train,y_train)\n",
    "y_pred = dtc.predict(x_test)\n",
    "# Model Accuracy, how often is the classifier correct?\n",
    "print(\"Missclassified :\",(y_test!=y_pred).sum())\n",
    "from sklearn.metrics import accuracy_score\n",
    "print(\"Accuracy:\",accuracy_score(y_test, y_pred))\n",
    "\n",
    "\n",
    "#find c for best Accuracy\n",
    "max_acc={}\n",
    "for i in range(1,101):\n",
    "    dtc=DecisionTreeClassifier(max_depth=i,random_state=0)\n",
    "    dtc.fit(x_train,y_train)\n",
    "    y_pred = dtc.predict(x_test)\n",
    "    # Model Accuracy, how often is the classifier correct?\n",
    "    a=accuracy_score(y_test, y_pred)\n",
    "    #max_acc.append(a)\n",
    "    max_acc[i]=a\n",
    "    \n",
    "print(\"Best C Values for best Accuracy : \",max(max_acc, key=max_acc.get))    \n",
    "print(\"\\n Accuracy : \",max_acc[max(max_acc, key=max_acc.get)])    "
   ]
  },
  {
   "cell_type": "code",
   "execution_count": null,
   "metadata": {},
   "outputs": [],
   "source": []
  }
 ],
 "metadata": {
  "kernelspec": {
   "display_name": "Python 3",
   "language": "python",
   "name": "python3"
  },
  "language_info": {
   "codemirror_mode": {
    "name": "ipython",
    "version": 3
   },
   "file_extension": ".py",
   "mimetype": "text/x-python",
   "name": "python",
   "nbconvert_exporter": "python",
   "pygments_lexer": "ipython3",
   "version": "3.7.2"
  }
 },
 "nbformat": 4,
 "nbformat_minor": 2
}
