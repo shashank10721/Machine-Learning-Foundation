{
 "cells": [
  {
   "cell_type": "code",
   "execution_count": 12,
   "metadata": {},
   "outputs": [
    {
     "name": "stdout",
     "output_type": "stream",
     "text": [
      "Misclassified Samples 1\n",
      "Accuracy 0.9666666666666667\n",
      "[0.14089666 0.02081973 0.34546202 0.49282158]\n",
      "Feature Ranking: \n",
      "1. feature 4 (0.492822)\n",
      "2. feature 3 (0.345462)\n",
      "3. feature 1 (0.140897)\n",
      "4. feature 2 (0.020820)\n"
     ]
    }
   ],
   "source": [
    "from sklearn import datasets\n",
    "Iris=datasets.load_iris()\n",
    "x=Iris.data\n",
    "y=Iris.target\n",
    "\n",
    "import numpy as np\n",
    "\n",
    "from sklearn.model_selection import train_test_split\n",
    "x_train,x_test,y_train,y_test = train_test_split(x,y,test_size=0.2,random_state=None)\n",
    "\n",
    "from sklearn.preprocessing import StandardScaler\n",
    "sc=StandardScaler()\n",
    "sc.fit(x_train)   #to recognize mean and std of the data set\n",
    "x_train_std=sc.transform(x_train)\n",
    "x_test_std=sc.transform(x_test)\n",
    "\n",
    "#Random Forest\n",
    "from sklearn.ensemble import RandomForestClassifier\n",
    "r=RandomForestClassifier(n_estimators=10,criterion='entropy')\n",
    "r.fit(x_train_std,y_train)\n",
    "y_pred=r.predict(x_test_std)\n",
    "print(\"Misclassified Samples\",(y_test != y_pred).sum())\n",
    "\n",
    "from sklearn.metrics import accuracy_score\n",
    "print('Accuracy',accuracy_score(y_test,y_pred))\n",
    "\n",
    "\n"
   ]
  },
  {
   "cell_type": "code",
   "execution_count": 14,
   "metadata": {},
   "outputs": [
    {
     "name": "stdout",
     "output_type": "stream",
     "text": [
      "[0.14089666 0.02081973 0.34546202 0.49282158]\n",
      "Feature Ranking: \n",
      "1. feature 4 (0.492822)\n",
      "2. feature 3 (0.345462)\n",
      "3. feature 1 (0.140897)\n",
      "4. feature 2 (0.020820)\n"
     ]
    },
    {
     "data": {
      "image/png": "[encoded data removed]",
      "text/plain": [
       "<Figure size 432x288 with 1 Axes>"
      ]
     },
     "metadata": {
      "needs_background": "light"
     },
     "output_type": "display_data"
    }
   ],
   "source": [
    "importances=r.feature_importances_\n",
    "print(importances)\n",
    "\n",
    "\n",
    "#index sorting\n",
    "indices=np.argsort(importances)[::-1]\n",
    "import matplotlib.pyplot as plt\n",
    "#print the feature ranking\n",
    "print(\"Feature Ranking: \")\n",
    "for f in range(x.shape[1]):\n",
    "    print(\"%d. feature %d (%f)\" %(f+1,indices[f]+1,importances[indices[f]]))\n",
    "    \n",
    "\n",
    "plt.figure()\n",
    "plt.title(\"Feature Importances\")\n",
    "plt.bar(range(x.shape[1]),importances[indices], color=\"Red\",align=\"center\")\n",
    "plt.xticks(range(x.shape[1]),indices) #x aixs values \n",
    "plt.xlabel(\"Feature Index\")\n",
    "plt.xlim([-1,x.shape[1]]) # x axix limit\n",
    "plt.show()"
   ]
  },
  {
   "cell_type": "code",
   "execution_count": null,
   "metadata": {},
   "outputs": [],
   "source": []
  }
 ],
 "metadata": {
  "kernelspec": {
   "display_name": "Python 3",
   "language": "python",
   "name": "python3"
  },
  "language_info": {
   "codemirror_mode": {
    "name": "ipython",
    "version": 3
   },
   "file_extension": ".py",
   "mimetype": "text/x-python",
   "name": "python",
   "nbconvert_exporter": "python",
   "pygments_lexer": "ipython3",
   "version": "3.7.2"
  }
 },
 "nbformat": 4,
 "nbformat_minor": 2
}
