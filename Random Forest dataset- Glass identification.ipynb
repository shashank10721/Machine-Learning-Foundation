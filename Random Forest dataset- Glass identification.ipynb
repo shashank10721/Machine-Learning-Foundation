{
 "cells": [
  {
   "cell_type": "code",
   "execution_count": 7,
   "metadata": {},
   "outputs": [
    {
     "name": "stdout",
     "output_type": "stream",
     "text": [
      "(214, 10)\n",
      "        RI     Na    Mg    Al     Si     K    Ca   Ba   Fe  Type\n",
      "0  1.52101  13.64  4.49  1.10  71.78  0.06  8.75  0.0  0.0     1\n",
      "1  1.51761  13.89  3.60  1.36  72.73  0.48  7.83  0.0  0.0     1\n",
      "2  1.51618  13.53  3.55  1.54  72.99  0.39  7.78  0.0  0.0     1\n",
      "3  1.51766  13.21  3.69  1.29  72.61  0.57  8.22  0.0  0.0     1\n",
      "4  1.51742  13.27  3.62  1.24  73.08  0.55  8.07  0.0  0.0     1\n"
     ]
    }
   ],
   "source": [
    "import numpy as np\n",
    "import pandas as pd\n",
    "from sklearn.model_selection import train_test_split\n",
    "\n",
    "from sklearn.metrics import accuracy_score\n",
    "\n",
    "\n",
    "col_names = ['RI', 'Na', 'Mg', 'Al', 'Si', 'K', 'Ca', 'Ba', 'Fe','Type']\n",
    "\n",
    "df=pd.read_csv(\"glass.csv\", header=None,names=col_names)\n",
    "print(df.shape)\n",
    "print(df.head())"
   ]
  },
  {
   "cell_type": "code",
   "execution_count": 3,
   "metadata": {},
   "outputs": [
    {
     "name": "stdout",
     "output_type": "stream",
     "text": [
      "Original data x: (214, 9)\n",
      "After spliting x_traing shape: (149, 9)\n",
      "After spliting x_test size: (65, 9)\n"
     ]
    }
   ],
   "source": [
    "feature = ['RI', 'Na', 'Mg', 'Al', 'Si', 'K', 'Ca', 'Ba', 'Fe']\n",
    "x=df[feature]\n",
    "# y is target values\n",
    "y=df.Type\n",
    "\n",
    "# Split dataset into training set and test set\n",
    "x_train, x_test, y_train, y_test = train_test_split(x, y, test_size=0.3, random_state=1) # 70% training and 30% test\n",
    "\n",
    "print(\"Original data x:\",x.shape)\n",
    "print(\"After spliting x_traing shape:\",np.shape(x_train))\n",
    "print(\"After spliting x_test size:\",np.shape(x_test))\n",
    "\n"
   ]
  },
  {
   "cell_type": "code",
   "execution_count": 4,
   "metadata": {},
   "outputs": [
    {
     "name": "stdout",
     "output_type": "stream",
     "text": [
      "Missclassified : 20\n",
      "Accuracy: 0.6923076923076923\n",
      "\n",
      " Missclassified for max Accuracy:  9\n",
      "Best n_estimators value for max Aaccuracy:  36\n",
      "Accuracy:  0.8615384615384616\n"
     ]
    }
   ],
   "source": [
    "from sklearn.ensemble import RandomForestClassifier\n",
    "rfc = RandomForestClassifier(n_estimators=3,criterion='entropy')\n",
    "rfc.fit(x_train,y_train)\n",
    "y_pred = rfc.predict(x_test)\n",
    "print(\"Missclassified :\",(y_test!=y_pred).sum())\n",
    "from sklearn.metrics import accuracy_score\n",
    "print(\"Accuracy:\",accuracy_score(y_test, y_pred))\n",
    "\n",
    "\n",
    "max_acc={}\n",
    "miss=[]\n",
    "for i in range(1,101):\n",
    "    rfc = RandomForestClassifier(n_estimators=i,criterion='entropy')\n",
    "    rfc.fit(x_train,y_train)\n",
    "    y_pred = rfc.predict(x_test)\n",
    "    a=(y_test!=y_pred).sum()\n",
    "    miss.append(a)\n",
    "    b=accuracy_score(y_test, y_pred)\n",
    "    max_acc[i]=b\n",
    "    \n",
    "print(\"\\n Missclassified for max Accuracy: \",min(miss))       \n",
    "print(\"Best n_estimators value for max Aaccuracy: \",max(max_acc,key=max_acc.get))    \n",
    "print(\"Accuracy: \",max_acc[max(max_acc,key=max_acc.get)]) "
   ]
  }
 ],
 "metadata": {
  "kernelspec": {
   "display_name": "Python 3",
   "language": "python",
   "name": "python3"
  },
  "language_info": {
   "codemirror_mode": {
    "name": "ipython",
    "version": 3
   },
   "file_extension": ".py",
   "mimetype": "text/x-python",
   "name": "python",
   "nbconvert_exporter": "python",
   "pygments_lexer": "ipython3",
   "version": "3.7.2"
  }
 },
 "nbformat": 4,
 "nbformat_minor": 2
}
