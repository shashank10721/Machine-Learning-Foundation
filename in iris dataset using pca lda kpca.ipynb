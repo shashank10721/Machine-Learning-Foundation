{
 "cells": [
  {
   "cell_type": "code",
   "execution_count": 8,
   "metadata": {},
   "outputs": [
    {
     "name": "stdout",
     "output_type": "stream",
     "text": [
      "(150, 4)\n",
      "(150, 4)\n",
      "(150, 4)\n",
      "(150, 2)\n"
     ]
    },
    {
     "data": {
      "text/plain": [
       "'import matplotlib.pyplot as plt\\nplt.figure()\\nplt.scatter(X_pca[y==0,0],X_pca[y==0,1],color=\"red\",marker=\"^\",label=\\'Class-1\\')\\nplt.scatter(X_pca[y==1,0],X_pca[y==1,1],color=\"blue\",marker=\"o\",label=\\'Class-2\\')\\nplt.legend()\\nplt.title(\"Moon Dataset With PCA\")\\nplt.grid()\\nplt.xlabel(\"PCA1\")\\nplt.ylabel(\"PCA2\")\\nplt.show()'"
      ]
     },
     "execution_count": 8,
     "metadata": {},
     "output_type": "execute_result"
    }
   ],
   "source": [
    "from sklearn import datasets\n",
    "iris=datasets.load_iris()\n",
    "X=iris.data\n",
    "y=iris.target\n",
    "target_names=iris.target_names\n",
    "from sklearn.decomposition import PCA\n",
    "pca=PCA(n_components=4)\n",
    "X_pca=pca.fit(X).transform(X)\n",
    "\n",
    "from sklearn.decomposition import KernelPCA\n",
    "kpca=KernelPCA(n_components=4)\n",
    "X_kpca=kpca.fit(X).transform(X)\n",
    "\n",
    "from sklearn.discriminant_analysis import LinearDiscriminantAnalysis as LDA\n",
    "lda=LDA(n_components=4) #two pca\n",
    "X_lda=lda.fit(X,y).transform(X)\n",
    "\n",
    "print(X.shape)\n",
    "print(X_pca.shape)\n",
    "print(X_kpca.shape)\n",
    "print(X_lda.shape)\n",
    "\n",
    "\n",
    "\n",
    "\n",
    "\n",
    "\n",
    "\n",
    "'''import matplotlib.pyplot as plt\n",
    "plt.figure()\n",
    "plt.scatter(X_pca[y==0,0],X_pca[y==0,1],color=\"red\",marker=\"^\",label='Class-1')\n",
    "plt.scatter(X_pca[y==1,0],X_pca[y==1,1],color=\"blue\",marker=\"o\",label='Class-2')\n",
    "plt.legend()\n",
    "plt.title(\"Moon Dataset With PCA\")\n",
    "plt.grid()\n",
    "plt.xlabel(\"PCA1\")\n",
    "plt.ylabel(\"PCA2\")\n",
    "plt.show()'''\n",
    "\n"
   ]
  },
  {
   "cell_type": "code",
   "execution_count": null,
   "metadata": {},
   "outputs": [],
   "source": []
  }
 ],
 "metadata": {
  "kernelspec": {
   "display_name": "Python 3",
   "language": "python",
   "name": "python3"
  },
  "language_info": {
   "codemirror_mode": {
    "name": "ipython",
    "version": 3
   },
   "file_extension": ".py",
   "mimetype": "text/x-python",
   "name": "python",
   "nbconvert_exporter": "python",
   "pygments_lexer": "ipython3",
   "version": "3.7.2"
  }
 },
 "nbformat": 4,
 "nbformat_minor": 2
}
