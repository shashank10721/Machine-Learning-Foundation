{
 "cells": [
  {
   "cell_type": "code",
   "execution_count": 8,
   "metadata": {},
   "outputs": [
    {
     "name": "stdout",
     "output_type": "stream",
     "text": [
      "Misclassified Sample : 0\n",
      "Accuracy : 1\n"
     ]
    },
    {
     "name": "stderr",
     "output_type": "stream",
     "text": [
      "c:\\users\\user\\appdata\\local\\programs\\python\\python37\\lib\\site-packages\\sklearn\\linear_model\\logistic.py:433: FutureWarning: Default solver will be changed to 'lbfgs' in 0.22. Specify a solver to silence this warning.\n",
      "  FutureWarning)\n",
      "c:\\users\\user\\appdata\\local\\programs\\python\\python37\\lib\\site-packages\\sklearn\\linear_model\\logistic.py:460: FutureWarning: Default multi_class will be changed to 'auto' in 0.22. Specify the multi_class option to silence this warning.\n",
      "  \"this warning.\", FutureWarning)\n"
     ]
    }
   ],
   "source": [
    "from sklearn import datasets\n",
    "Iris=datasets.load_iris()\n",
    "x=Iris.data\n",
    "y=Iris.target\n",
    "#print(x)\n",
    "#print(y)\n",
    "import numpy as np\n",
    "#print(np.unique(y))\n",
    "#print(x.shape)\n",
    "\n",
    "## number of records/class\n",
    "#print((y==0).sum())\n",
    "#print((y==1).sum())\n",
    "#print((y==2).sum())\n",
    "\n",
    "\n",
    "from sklearn.model_selection import train_test_split\n",
    "x_train,x_test,y_train,y_test=train_test_split(x,y,test_size=0.2,random_state=0)\n",
    "#print(np.shape(x))\n",
    "#print(np.shape(x_train))\n",
    "#print(np.shape(x_test))\n",
    "\n",
    "##preprocessing the data\n",
    "from sklearn.preprocessing import StandardScaler\n",
    "sc=StandardScaler()\n",
    "sc.fit(x_train)\n",
    "x_train_std=sc.transform(x_train)\n",
    "x_test_std=sc.transform(x_test)\n",
    "\n",
    "\n",
    "\n",
    "##perceptron\n",
    "#from sklearn.linear_model import Perceptron\n",
    "#ppn=Perceptron(eta0=0.1,random_state=0, max_iter=100)\n",
    "#ppn.fit(x_train_std,y_train)\n",
    "from sklearn.linear_model import LogisticRegression\n",
    "lr=LogisticRegression(C=1000,random_state=0,penalty=\"l1\")\n",
    "lr.fit(x_train_std,y_train)\n",
    "\n",
    "\n",
    "y_pred=lr.predict(x_test_std)\n",
    "print(\"Misclassified Sample : %d\" %(y_test!=y_pred).sum())\n",
    "\n",
    "\n",
    "from sklearn.metrics import accuracy_score\n",
    "print(\"Accuracy : %d\" %accuracy_score(y_test,y_pred))"
   ]
  },
  {
   "cell_type": "code",
   "execution_count": null,
   "metadata": {},
   "outputs": [],
   "source": []
  },
  {
   "cell_type": "code",
   "execution_count": null,
   "metadata": {},
   "outputs": [],
   "source": []
  },
  {
   "cell_type": "code",
   "execution_count": null,
   "metadata": {},
   "outputs": [],
   "source": []
  },
  {
   "cell_type": "code",
   "execution_count": null,
   "metadata": {},
   "outputs": [],
   "source": []
  }
 ],
 "metadata": {
  "kernelspec": {
   "display_name": "Python 3",
   "language": "python",
   "name": "python3"
  },
  "language_info": {
   "codemirror_mode": {
    "name": "ipython",
    "version": 3
   },
   "file_extension": ".py",
   "mimetype": "text/x-python",
   "name": "python",
   "nbconvert_exporter": "python",
   "pygments_lexer": "ipython3",
   "version": "3.7.2"
  }
 },
 "nbformat": 4,
 "nbformat_minor": 2
}
